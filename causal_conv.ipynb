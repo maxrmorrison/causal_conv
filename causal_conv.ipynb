{
 "cells": [
  {
   "cell_type": "markdown",
   "metadata": {},
   "source": [
    "# Dilated and Causal Convolution Guide"
   ]
  },
  {
   "cell_type": "markdown",
   "metadata": {},
   "source": [
    "This notebook is meant to demonstrate bare minimum examples of dilated and causal convolutions, the main ingredients in the Wavenet architecture. First we start off by creating our signal."
   ]
  },
  {
   "cell_type": "code",
   "execution_count": 45,
   "metadata": {},
   "outputs": [
    {
     "name": "stdout",
     "output_type": "stream",
     "text": [
      "X is [0. 1. 2. 3. 4. 5. 6. 7.]\n",
      "X has shape [1, 8, 1]\n"
     ]
    }
   ],
   "source": [
    "import tensorflow as tf\n",
    "\n",
    "input_len = 8\n",
    "filter_width = 3\n",
    "\n",
    "X = tf.range(input_len, dtype=tf.float32)\n",
    "X = tf.reshape(X, [1, input_len, 1])\n",
    "\n",
    "with tf.Session() as sess:\n",
    "    x = sess.run(X)\n",
    "    print('X is', x.flatten())\n",
    "    print('X has shape', X.shape.as_list())"
   ]
  },
  {
   "cell_type": "markdown",
   "metadata": {},
   "source": [
    "Next we will create our filter (an accumulator) and perform a normal 1D convolution for later comparison."
   ]
  },
  {
   "cell_type": "code",
   "execution_count": 46,
   "metadata": {},
   "outputs": [
    {
     "name": "stdout",
     "output_type": "stream",
     "text": [
      "[0. 1. 2. 3. 4. 5. 6. 7.] * [1. 1. 1.] = [ 3.  6.  9. 12. 15. 18.]\n"
     ]
    }
   ],
   "source": [
    "# Basic 1D convolution\n",
    "\n",
    "H = tf.ones([filter_width, 1, 1])\n",
    "Y = tf.nn.conv1d(X, H, 1, 'VALID')\n",
    "\n",
    "with tf.Session() as sess:\n",
    "    x, h, y = sess.run([X, H, Y])\n",
    "    print('{} * {} = {}'.format(x.flatten(), h.flatten(), y.flatten()))"
   ]
  },
  {
   "cell_type": "markdown",
   "metadata": {},
   "source": [
    "Now we will implement a basic causal convolution. We do this by padding the input signal with zeros, causing it to shift in time. This shift allows the convolution to never use \"future\" values of x[t] when computing y[t]. Note that the result has the same dimensionality as the input signal."
   ]
  },
  {
   "cell_type": "code",
   "execution_count": 47,
   "metadata": {},
   "outputs": [
    {
     "name": "stdout",
     "output_type": "stream",
     "text": [
      "[0. 1. 2. 3. 4. 5. 6. 7.] * [1. 1. 1.] = [ 0.  1.  3.  6.  9. 12. 15. 18.]\n"
     ]
    }
   ],
   "source": [
    "# Non-dilated causal convolution\n",
    "\n",
    "X_pad = tf.pad(X, [[0, 0], [filter_width - 1, 0], [0, 0]], 'CONSTANT')\n",
    "Y = tf.nn.conv1d(X_pad, H, 1, 'VALID')\n",
    "\n",
    "with tf.Session() as sess:\n",
    "    x, h, y = sess.run([X, H, Y])\n",
    "    print('{} * {} = {}'.format(x.flatten(), h.flatten(), y.flatten()))"
   ]
  },
  {
   "cell_type": "markdown",
   "metadata": {},
   "source": [
    "Now we will add a dilation to our convolution. In order to do this efficiently, we will use a trick: rather than actually creating a filter with many 0s, we will turn our input signal into multiple signals sampled at the dilation rate. This requires us to first pad our signal with zeros so its length is a multiple of the dilation rate. Afterwards, we combine the result of our convolutions of each of the subsampled signals."
   ]
  },
  {
   "cell_type": "code",
   "execution_count": 48,
   "metadata": {},
   "outputs": [
    {
     "name": "stdout",
     "output_type": "stream",
     "text": [
      "[0. 1. 2. 3. 4. 5. 6. 7.] * [1. 1. 1.] = [ 0.  1.  2.  4.  6.  9. 12. 15.]\n"
     ]
    }
   ],
   "source": [
    "# Dilated causal convolution\n",
    "\n",
    "dilation = 2\n",
    "\n",
    "# Turn our input signal into multiple subsampled signals\n",
    "padded = tf.pad(X, [[0, 0], [0, (dilation - input_len % dilation) % dilation], [0, 0]])\n",
    "reshaped = tf.reshape(padded, [-1, dilation, 1])\n",
    "transposed = tf.transpose(reshaped, perm=[1, 0, 2])\n",
    "X_pad = tf.reshape(transposed, [dilation, -1, 1])\n",
    "\n",
    "# Perform causal convolution as normal\n",
    "X_pad = tf.pad(X_pad, [[0, 0], [filter_width - 1, 0], [0, 0]], 'CONSTANT')\n",
    "Y = tf.nn.conv1d(X_pad, H, 1, 'VALID')\n",
    "\n",
    "# Undo our subsampling\n",
    "prepared = tf.reshape(Y, [dilation, -1, 1])\n",
    "transposed = tf.transpose(prepared, perm=[1, 0, 2])\n",
    "Y = tf.reshape(transposed, [1, -1, 1])\n",
    "\n",
    "with tf.Session() as sess:\n",
    "    x, h, y = sess.run([X, H, Y])\n",
    "    print('{} * {} = {}'.format(x.flatten(), h.flatten(), y.flatten()))"
   ]
  }
 ],
 "metadata": {
  "kernelspec": {
   "display_name": "Python 3",
   "language": "python",
   "name": "python3"
  },
  "language_info": {
   "codemirror_mode": {
    "name": "ipython",
    "version": 3
   },
   "file_extension": ".py",
   "mimetype": "text/x-python",
   "name": "python",
   "nbconvert_exporter": "python",
   "pygments_lexer": "ipython3",
   "version": "3.6.5"
  }
 },
 "nbformat": 4,
 "nbformat_minor": 2
}
